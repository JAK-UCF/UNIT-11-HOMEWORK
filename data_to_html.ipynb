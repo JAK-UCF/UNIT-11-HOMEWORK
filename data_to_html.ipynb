{
 "cells": [
  {
   "cell_type": "code",
   "execution_count": 1,
   "metadata": {},
   "outputs": [],
   "source": [
    "import pandas as pd"
   ]
  },
  {
   "cell_type": "code",
   "execution_count": 2,
   "metadata": {},
   "outputs": [
    {
     "data": {
      "text/html": [
       "<div>\n",
       "<style scoped>\n",
       "    .dataframe tbody tr th:only-of-type {\n",
       "        vertical-align: middle;\n",
       "    }\n",
       "\n",
       "    .dataframe tbody tr th {\n",
       "        vertical-align: top;\n",
       "    }\n",
       "\n",
       "    .dataframe thead th {\n",
       "        text-align: right;\n",
       "    }\n",
       "</style>\n",
       "<table border=\"1\" class=\"dataframe\">\n",
       "  <thead>\n",
       "    <tr style=\"text-align: right;\">\n",
       "      <th></th>\n",
       "      <th>City</th>\n",
       "      <th>Country</th>\n",
       "      <th>Latitude</th>\n",
       "      <th>Temperature (F)</th>\n",
       "      <th>Humidity (%)</th>\n",
       "      <th>Cloudiness (%)</th>\n",
       "      <th>Wind Speed (mph)</th>\n",
       "      <th>Date - Time Reported</th>\n",
       "    </tr>\n",
       "  </thead>\n",
       "  <tbody>\n",
       "    <tr>\n",
       "      <th>0</th>\n",
       "      <td>Laurel</td>\n",
       "      <td>US</td>\n",
       "      <td>31.69</td>\n",
       "      <td>75.20</td>\n",
       "      <td>94</td>\n",
       "      <td>90</td>\n",
       "      <td>9.17</td>\n",
       "      <td>07/13/2019 - 09:31 AM</td>\n",
       "    </tr>\n",
       "    <tr>\n",
       "      <th>1</th>\n",
       "      <td>Port Alfred</td>\n",
       "      <td>ZA</td>\n",
       "      <td>-33.59</td>\n",
       "      <td>64.99</td>\n",
       "      <td>81</td>\n",
       "      <td>0</td>\n",
       "      <td>1.99</td>\n",
       "      <td>07/13/2019 - 09:26 AM</td>\n",
       "    </tr>\n",
       "    <tr>\n",
       "      <th>2</th>\n",
       "      <td>Grand Gaube</td>\n",
       "      <td>MU</td>\n",
       "      <td>-20.01</td>\n",
       "      <td>73.40</td>\n",
       "      <td>53</td>\n",
       "      <td>75</td>\n",
       "      <td>10.29</td>\n",
       "      <td>07/13/2019 - 09:26 AM</td>\n",
       "    </tr>\n",
       "    <tr>\n",
       "      <th>3</th>\n",
       "      <td>Ushuaia</td>\n",
       "      <td>AR</td>\n",
       "      <td>-54.81</td>\n",
       "      <td>41.00</td>\n",
       "      <td>86</td>\n",
       "      <td>75</td>\n",
       "      <td>3.36</td>\n",
       "      <td>07/13/2019 - 09:20 AM</td>\n",
       "    </tr>\n",
       "    <tr>\n",
       "      <th>4</th>\n",
       "      <td>Puerto Ayora</td>\n",
       "      <td>EC</td>\n",
       "      <td>-0.74</td>\n",
       "      <td>69.80</td>\n",
       "      <td>83</td>\n",
       "      <td>20</td>\n",
       "      <td>2.24</td>\n",
       "      <td>07/13/2019 - 09:25 AM</td>\n",
       "    </tr>\n",
       "  </tbody>\n",
       "</table>\n",
       "</div>"
      ],
      "text/plain": [
       "           City Country  Latitude  Temperature (F)  Humidity (%)  \\\n",
       "0        Laurel      US     31.69            75.20            94   \n",
       "1   Port Alfred      ZA    -33.59            64.99            81   \n",
       "2   Grand Gaube      MU    -20.01            73.40            53   \n",
       "3       Ushuaia      AR    -54.81            41.00            86   \n",
       "4  Puerto Ayora      EC     -0.74            69.80            83   \n",
       "\n",
       "   Cloudiness (%)  Wind Speed (mph)   Date - Time Reported  \n",
       "0              90              9.17  07/13/2019 - 09:31 AM  \n",
       "1               0              1.99  07/13/2019 - 09:26 AM  \n",
       "2              75             10.29  07/13/2019 - 09:26 AM  \n",
       "3              75              3.36  07/13/2019 - 09:20 AM  \n",
       "4              20              2.24  07/13/2019 - 09:25 AM  "
      ]
     },
     "execution_count": 2,
     "metadata": {},
     "output_type": "execute_result"
    }
   ],
   "source": [
    "raw_data = pd.read_csv(\"assets/data/OUTPUT_weather_data.csv\")\n",
    "raw_data.head()"
   ]
  },
  {
   "cell_type": "code",
   "execution_count": 3,
   "metadata": {},
   "outputs": [],
   "source": [
    "data_table = raw_data.to_html(\"assets/data/OUTPUT_weather_data.html\")"
   ]
  }
 ],
 "metadata": {
  "kernelspec": {
   "display_name": "Python 3",
   "language": "python",
   "name": "python3"
  },
  "language_info": {
   "codemirror_mode": {
    "name": "ipython",
    "version": 3
   },
   "file_extension": ".py",
   "mimetype": "text/x-python",
   "name": "python",
   "nbconvert_exporter": "python",
   "pygments_lexer": "ipython3",
   "version": "3.7.3"
  },
  "varInspector": {
   "cols": {
    "lenName": 16,
    "lenType": 16,
    "lenVar": 40
   },
   "kernels_config": {
    "python": {
     "delete_cmd_postfix": "",
     "delete_cmd_prefix": "del ",
     "library": "var_list.py",
     "varRefreshCmd": "print(var_dic_list())"
    },
    "r": {
     "delete_cmd_postfix": ") ",
     "delete_cmd_prefix": "rm(",
     "library": "var_list.r",
     "varRefreshCmd": "cat(var_dic_list()) "
    }
   },
   "types_to_exclude": [
    "module",
    "function",
    "builtin_function_or_method",
    "instance",
    "_Feature"
   ],
   "window_display": false
  }
 },
 "nbformat": 4,
 "nbformat_minor": 2
}
